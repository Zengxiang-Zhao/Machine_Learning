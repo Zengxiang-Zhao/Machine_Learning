{
 "cells": [
  {
   "cell_type": "markdown",
   "metadata": {},
   "source": [
    "# Zengxiang Zhao"
   ]
  },
  {
   "cell_type": "markdown",
   "metadata": {},
   "source": [
    "#### This project is an extension of assignment 3, to a 2D feature space and to\n",
    "####  a classification problem. You will note that the accuracy of the model\n",
    "####  is not that high, suggesting that the model may not be the most\n",
    "####  appropriate for the proposed data."
   ]
  },
  {
   "cell_type": "code",
   "execution_count": 1,
   "metadata": {},
   "outputs": [],
   "source": [
    "import numpy as np\n",
    "\n",
    "import matplotlib.pyplot as plt\n",
    "\n",
    "%matplotlib inline"
   ]
  },
  {
   "cell_type": "markdown",
   "metadata": {},
   "source": [
    "### First, the (simulated) data."
   ]
  },
  {
   "cell_type": "code",
   "execution_count": 2,
   "metadata": {},
   "outputs": [],
   "source": [
    "\n",
    "# red class  =  class 0\n",
    "\n",
    "x0 = np.random.normal(2, 1, (60, 1))\n",
    "y0 = np.random.normal(1, 1, (60, 1))\n",
    "\n",
    "# green class  =  class 1\n",
    "\n",
    "x1 = np.random.normal(5, 1, (70, 1))\n",
    "y1 = np.random.normal(4, 1, (70, 1))\n",
    "\n",
    "# blue class  =  class 2\n",
    "\n",
    "x2 = np.random.normal(3, 1, (80, 1))\n",
    "y2 = np.random.normal(7, 1, (80, 1))\n",
    "\n",
    "# yellow class  =  class 3\n",
    "\n",
    "x3 = np.random.normal(8, 1, (90, 1))\n",
    "y3 = np.random.normal(0, 1, (90, 1))\n",
    "\n"
   ]
  },
  {
   "cell_type": "code",
   "execution_count": 3,
   "metadata": {},
   "outputs": [
    {
     "data": {
      "image/png": "[encoded data removed]",
      "text/plain": [
       "<Figure size 432x288 with 1 Axes>"
      ]
     },
     "metadata": {
      "needs_background": "light"
     },
     "output_type": "display_data"
    }
   ],
   "source": [
    "plt.scatter(x0, y0, c='r', marker='o', s=40)\n",
    "plt.scatter(x1, y1, c='g', marker='x', s=40)\n",
    "plt.scatter(x2, y2, c='b', marker='x', s=40)\n",
    "plt.scatter(x3, y3, c='y', marker='o', s=40)\n",
    "\n",
    "plt.show()"
   ]
  },
  {
   "cell_type": "markdown",
   "metadata": {},
   "source": [
    "###  Combine the data into a single tensor."
   ]
  },
  {
   "cell_type": "code",
   "execution_count": 4,
   "metadata": {},
   "outputs": [
    {
     "name": "stdout",
     "output_type": "stream",
     "text": [
      "[-0.39301352  1.56946082] [3.79976412 3.17155228] [2.4845023  6.16803259] [ 8.5149307  -0.19707869]\n"
     ]
    }
   ],
   "source": [
    "d0 = np.hstack((x0, y0))\n",
    "d1 = np.hstack((x1, y1))\n",
    "d2 = np.hstack((x2, y2))\n",
    "d3 = np.hstack((x3, y3))\n",
    "\n",
    "feature_xy = np.vstack((d0, d1, d2, d3))\n",
    "print(d0[0], d1[3],d2[0],d3[0])\n"
   ]
  },
  {
   "cell_type": "code",
   "execution_count": 5,
   "metadata": {},
   "outputs": [
    {
     "data": {
      "text/plain": [
       "(300, 2)"
      ]
     },
     "execution_count": 5,
     "metadata": {},
     "output_type": "execute_result"
    }
   ],
   "source": [
    "#   show shape of feature_xy\n",
    "feature_xy.shape"
   ]
  },
  {
   "cell_type": "markdown",
   "metadata": {},
   "source": [
    "### Make one-hot encoding of the (desired) target classes"
   ]
  },
  {
   "cell_type": "code",
   "execution_count": 6,
   "metadata": {},
   "outputs": [],
   "source": [
    "expected_class = np.matrix([[1., 0., 0., 0.]] * len(x0) \\\n",
    "                        +  [[0., 1., 0., 0.]] * len(x1) \\\n",
    "                        +  [[0., 0., 1., 0.]] * len(x2) \\\n",
    "                        +  [[0., 0., 0., 1.]] * len(x3) )"
   ]
  },
  {
   "cell_type": "code",
   "execution_count": 7,
   "metadata": {},
   "outputs": [
    {
     "name": "stdout",
     "output_type": "stream",
     "text": [
      "[[1. 0. 0. 0.]\n",
      " [1. 0. 0. 0.]\n",
      " [1. 0. 0. 0.]\n",
      " ...\n",
      " [0. 0. 0. 1.]\n",
      " [0. 0. 0. 1.]\n",
      " [0. 0. 0. 1.]]\n"
     ]
    }
   ],
   "source": [
    "print(expected_class)"
   ]
  },
  {
   "cell_type": "markdown",
   "metadata": {},
   "source": [
    "### Shuffle the data points (and corresponding classes)\n",
    "### to avoid skewing the learning."
   ]
  },
  {
   "cell_type": "code",
   "execution_count": 8,
   "metadata": {},
   "outputs": [],
   "source": [
    "indices = np.arange(feature_xy.shape[0])\n",
    "\n",
    "np.random.shuffle(indices)\n",
    "\n",
    "feature_xy = feature_xy[indices, :]\n",
    "\n",
    "expected_class = expected_class[indices, :]"
   ]
  },
  {
   "cell_type": "code",
   "execution_count": null,
   "metadata": {},
   "outputs": [],
   "source": []
  },
  {
   "cell_type": "markdown",
   "metadata": {},
   "source": [
    "### The usual."
   ]
  },
  {
   "cell_type": "code",
   "execution_count": 9,
   "metadata": {},
   "outputs": [],
   "source": [
    "import tensorflow as tf"
   ]
  },
  {
   "cell_type": "markdown",
   "metadata": {},
   "source": [
    "### Hyper-parameters.   Play with these, to see if they make a difference."
   ]
  },
  {
   "cell_type": "code",
   "execution_count": 10,
   "metadata": {},
   "outputs": [],
   "source": [
    "learning_rate = 0.03\n",
    "training_epochs = 10000\n",
    "\n",
    "num_classes = 4\n",
    "batch_size = 100"
   ]
  },
  {
   "cell_type": "markdown",
   "metadata": {},
   "source": [
    "###  The feature tensor shape."
   ]
  },
  {
   "cell_type": "code",
   "execution_count": 11,
   "metadata": {},
   "outputs": [],
   "source": [
    "training_size, num_features = feature_xy.shape"
   ]
  },
  {
   "cell_type": "markdown",
   "metadata": {},
   "source": [
    "###  1. Make placeholders X and Y for model inputs and corresponding desired classes."
   ]
  },
  {
   "cell_type": "code",
   "execution_count": 12,
   "metadata": {},
   "outputs": [],
   "source": [
    "X = tf.placeholder(tf.float32,shape=[None,2], name=\"X\")\n",
    "Y = tf.placeholder(tf.float32,shape=[None,4], name=\"target\")"
   ]
  },
  {
   "cell_type": "markdown",
   "metadata": {},
   "source": [
    "### 2. Make variables W and b for the weights and biases of the TensorFlow model."
   ]
  },
  {
   "cell_type": "code",
   "execution_count": 13,
   "metadata": {},
   "outputs": [],
   "source": [
    "w = tf.Variable(tf.zeros([2,4],dtype =tf.float32), name=\"weights\")\n",
    "b = tf.Variable(tf.ones([4], dtype = tf.float32), name= \"bias\")\n",
    "\n"
   ]
  },
  {
   "cell_type": "markdown",
   "metadata": {},
   "source": [
    "###  3. Define the model, i.e. the model output.  I just call it model.\n",
    "###      Use the sigmoid activation. Softmax the output, of course."
   ]
  },
  {
   "cell_type": "code",
   "execution_count": 14,
   "metadata": {},
   "outputs": [],
   "source": [
    "from tensorflow.contrib.layers import fully_connected\n",
    "\n",
    "# predict_value = tf.matmul(X, w) + b\n",
    "# sigmoid_value = tf.nn.sigmoid(predict_value)\n",
    "# print(sigmoid_value)\n",
    "\n",
    "def model(X):\n",
    "    \n",
    "    predict_value = tf.matmul(X, w) + b\n",
    "    sigmoid_value = tf.nn.sigmoid(predict_value)\n",
    "    \n",
    "    \n",
    "#     predict_value = fully_connected(inputs=X,num_outputs=4,\n",
    "#                                     activation_fn=tf.nn.sigmoid,\n",
    "#                                     weights_initializer=tf.contrib.layers.xavier_initializer(),\n",
    "#                                     biases_initializer = tf.zeros_initializer())\n",
    "#     logits = fully_connected(inputs = 4,num_outputs = 4, activation_fn = tf.nn.softmax)\n",
    "    \n",
    "    return tf.nn.softmax(sigmoid_value)\n",
    "   "
   ]
  },
  {
   "cell_type": "markdown",
   "metadata": {},
   "source": [
    "### 4. Define the loss (cost) function as the cross-entropy \n",
    "### between desired class and actual class computed by model."
   ]
  },
  {
   "cell_type": "code",
   "execution_count": 15,
   "metadata": {},
   "outputs": [],
   "source": [
    "xentropy = tf.losses.softmax_cross_entropy(onehot_labels=Y,\n",
    "                                           logits=model(X))\n",
    "loss = tf.reduce_mean(xentropy, name=\"loss\")\n"
   ]
  },
  {
   "cell_type": "markdown",
   "metadata": {},
   "source": [
    "### 5. Define minimizer for the loss function."
   ]
  },
  {
   "cell_type": "code",
   "execution_count": 16,
   "metadata": {},
   "outputs": [],
   "source": [
    "minimizer = tf.train.GradientDescentOptimizer(learning_rate).minimize(loss)"
   ]
  },
  {
   "cell_type": "markdown",
   "metadata": {},
   "source": [
    "### 6. Make the Session object, and\n",
    "###     initialize global variables."
   ]
  },
  {
   "cell_type": "code",
   "execution_count": 17,
   "metadata": {},
   "outputs": [],
   "source": [
    "#initializer\n",
    "init = tf.global_variables_initializer()\n",
    "\n",
    "#run initializer\n",
    "sess = tf.Session()\n",
    "sess.run(init)"
   ]
  },
  {
   "cell_type": "code",
   "execution_count": null,
   "metadata": {},
   "outputs": [],
   "source": []
  },
  {
   "cell_type": "code",
   "execution_count": null,
   "metadata": {},
   "outputs": [],
   "source": []
  },
  {
   "cell_type": "markdown",
   "metadata": {},
   "source": [
    "### The batch training"
   ]
  },
  {
   "cell_type": "code",
   "execution_count": 18,
   "metadata": {},
   "outputs": [
    {
     "name": "stdout",
     "output_type": "stream",
     "text": [
      "0 1.3862948\n",
      "200 1.3325064\n",
      "400 1.3191571\n",
      "600 1.3028504\n",
      "800 1.2926896\n",
      "1000 1.3017459\n",
      "1200 1.2891203\n",
      "1400 1.2847366\n",
      "1600 1.2951161\n",
      "1800 1.2827557\n",
      "2000 1.2807218\n",
      "2200 1.2910473\n",
      "2400 1.2788068\n",
      "2600 1.2780442\n",
      "2800 1.2880138\n",
      "3000 1.2758763\n",
      "3200 1.276014\n",
      "3400 1.2855493\n",
      "3600 1.2735119\n",
      "3800 1.2743655\n",
      "4000 1.2834496\n",
      "4200 1.2715111\n",
      "4400 1.2729689\n",
      "4600 1.2816066\n",
      "4800 1.2697644\n",
      "5000 1.2717502\n",
      "5200 1.2799556\n",
      "5400 1.2682066\n",
      "5600 1.2706643\n",
      "5800 1.2784553\n",
      "6000 1.2667955\n",
      "6200 1.2696815\n",
      "6400 1.2770774\n",
      "6600 1.2655025\n",
      "6800 1.2687813\n",
      "7000 1.2758021\n",
      "7200 1.2643074\n",
      "7400 1.2679491\n",
      "7600 1.2746147\n",
      "7800 1.2631952\n",
      "8000 1.2671742\n",
      "8200 1.2735037\n",
      "8400 1.262155\n",
      "8600 1.2664485\n",
      "8800 1.2724603\n",
      "9000 1.2611783\n",
      "9200 1.2657658\n",
      "9400 1.2714777\n",
      "9600 1.2602578\n",
      "9800 1.2651211\n",
      "10000 1.2705498\n",
      "10200 1.2593883\n",
      "10400 1.2645106\n",
      "10600 1.2696719\n",
      "10800 1.258565\n",
      "11000 1.2639308\n",
      "11200 1.2688397\n",
      "11400 1.257784\n",
      "11600 1.2633792\n",
      "11800 1.2680496\n",
      "12000 1.2570418\n",
      "12200 1.2628533\n",
      "12400 1.2672986\n",
      "12600 1.2563356\n",
      "12800 1.2623513\n",
      "13000 1.2665836\n",
      "13200 1.2556627\n",
      "13400 1.2618713\n",
      "13600 1.2659019\n",
      "13800 1.2550207\n",
      "14000 1.2614118\n",
      "14200 1.2652515\n",
      "14400 1.2544075\n",
      "14600 1.2609715\n",
      "14800 1.2646303\n",
      "15000 1.2538214\n",
      "15200 1.2605491\n",
      "15400 1.2640363\n",
      "15600 1.2532604\n",
      "15800 1.2601434\n",
      "16000 1.2634676\n",
      "16200 1.2527229\n",
      "16400 1.2597535\n",
      "16600 1.2629228\n",
      "16800 1.2522075\n",
      "17000 1.2593783\n",
      "17200 1.2624003\n",
      "17400 1.2517129\n",
      "17600 1.2590172\n",
      "17800 1.2618986\n",
      "18000 1.2512381\n",
      "18200 1.258669\n",
      "18400 1.2614168\n",
      "18600 1.2507815\n",
      "18800 1.2583333\n",
      "19000 1.2609534\n",
      "19200 1.2503421\n",
      "19400 1.2580094\n",
      "19600 1.2605073\n",
      "19800 1.2499192\n",
      "20000 1.2576965\n",
      "20200 1.2600777\n",
      "20400 1.2495116\n",
      "20600 1.2573941\n",
      "20800 1.2596636\n",
      "21000 1.2491184\n",
      "21200 1.2571015\n",
      "21400 1.2592639\n",
      "21600 1.2487391\n",
      "21800 1.2568185\n",
      "22000 1.2588779\n",
      "22200 1.2483728\n",
      "22400 1.2565444\n",
      "22600 1.258505\n",
      "22800 1.2480187\n",
      "23000 1.2562785\n",
      "23200 1.2581443\n",
      "23400 1.2476764\n",
      "23600 1.2560208\n",
      "23800 1.2577952\n",
      "24000 1.247345\n",
      "24200 1.2557707\n",
      "24400 1.257457\n",
      "24600 1.247024\n",
      "24800 1.2555279\n",
      "25000 1.2571293\n",
      "25200 1.2467132\n",
      "25400 1.2552917\n",
      "25600 1.2568114\n",
      "25800 1.2464116\n",
      "26000 1.2550623\n",
      "26200 1.2565029\n",
      "26400 1.246119\n",
      "26600 1.254839\n",
      "26800 1.2562032\n",
      "27000 1.245835\n",
      "27200 1.2546217\n",
      "27400 1.255912\n",
      "27600 1.2455592\n",
      "27800 1.2544101\n",
      "28000 1.2556288\n",
      "28200 1.2452911\n",
      "28400 1.2542039\n",
      "28600 1.2553531\n",
      "28800 1.2450304\n",
      "29000 1.2540028\n",
      "29200 1.2550846\n",
      "29400 1.2447767\n",
      "29600 1.2538066\n",
      "29800 1.2548232\n"
     ]
    }
   ],
   "source": [
    "for step in range(training_epochs * training_size // batch_size):\n",
    "    offset = (step * batch_size) % training_size\n",
    "    batch_data = feature_xy[offset:(offset + batch_size), :]\n",
    "    batch_classes = expected_class[offset:(offset + batch_size)]\n",
    "    err, _ = sess.run([loss, minimizer], feed_dict={X: batch_data, Y: batch_classes})\n",
    "    if step % 200 == 0:\n",
    "        print (step, err)\n"
   ]
  },
  {
   "cell_type": "markdown",
   "metadata": {},
   "source": [
    "###  7. Show the weights and biases obtained for the model, after training."
   ]
  },
  {
   "cell_type": "code",
   "execution_count": 19,
   "metadata": {},
   "outputs": [
    {
     "name": "stdout",
     "output_type": "stream",
     "text": [
      "[[-1.0328522 -1.5873857 -2.3774579  0.933737 ]\n",
      " [-0.7167093 -0.7815868  2.0786862 -2.429043 ]]\n",
      "[ 4.5839257e+00 -9.9205342e-04 -4.5162287e-01 -5.9398860e-01]\n"
     ]
    }
   ],
   "source": [
    "w\n",
    "learned_w = sess.run(w)\n",
    "learned_b = sess.run(b)\n",
    "print(learned_w)\n",
    "print(learned_b)"
   ]
  },
  {
   "cell_type": "markdown",
   "metadata": {},
   "source": [
    "###  Make a few predictions."
   ]
  },
  {
   "cell_type": "code",
   "execution_count": 20,
   "metadata": {},
   "outputs": [
    {
     "name": "stdout",
     "output_type": "stream",
     "text": [
      "[3]\n"
     ]
    }
   ],
   "source": [
    "feed_dict = { X: [[8.0,-1.0]] }    # input X must be of shape [None,2]\n",
    "class_vector = sess.run(model(X), feed_dict)\n",
    "class_number = sess.run(tf.argmax(class_vector,1))\n",
    "print(class_number)"
   ]
  },
  {
   "cell_type": "code",
   "execution_count": 21,
   "metadata": {},
   "outputs": [
    {
     "name": "stdout",
     "output_type": "stream",
     "text": [
      "[0]\n"
     ]
    }
   ],
   "source": [
    "feed_dict = { X: [[0.5,1.4]] }    # input X must be of shape [None,2]\n",
    "class_vector = sess.run(model(X), feed_dict)\n",
    "class_number = sess.run(tf.argmax(class_vector,1))\n",
    "print(class_number)"
   ]
  },
  {
   "cell_type": "code",
   "execution_count": 22,
   "metadata": {},
   "outputs": [
    {
     "name": "stdout",
     "output_type": "stream",
     "text": [
      "[2]\n"
     ]
    }
   ],
   "source": [
    "feed_dict = { X: [[3.0,6.8]] }    # input X must be of shape [None,2]\n",
    "class_vector = sess.run(model(X), feed_dict)\n",
    "class_number = sess.run(tf.argmax(class_vector,1))\n",
    "print(class_number)"
   ]
  },
  {
   "cell_type": "code",
   "execution_count": 23,
   "metadata": {},
   "outputs": [
    {
     "name": "stdout",
     "output_type": "stream",
     "text": [
      "[0]\n"
     ]
    }
   ],
   "source": [
    "feed_dict = { X: [[5.4,4.3]] }    # input X must be of shape [None,2]\n",
    "class_vector = sess.run(model(X), feed_dict)\n",
    "class_number = sess.run(tf.argmax(class_vector,1))\n",
    "print(class_number)"
   ]
  },
  {
   "cell_type": "markdown",
   "metadata": {},
   "source": [
    "### Making an accuracy node."
   ]
  },
  {
   "cell_type": "code",
   "execution_count": 24,
   "metadata": {},
   "outputs": [],
   "source": [
    "correct_prediction = tf.equal(tf.argmax(model(X), 1), tf.argmax(Y, 1))\n",
    "accuracy = tf.reduce_mean(tf.cast(correct_prediction, \"float\"))"
   ]
  },
  {
   "cell_type": "markdown",
   "metadata": {},
   "source": [
    "### Use on the original data."
   ]
  },
  {
   "cell_type": "code",
   "execution_count": 25,
   "metadata": {},
   "outputs": [],
   "source": [
    "training_accuracy = sess.run([accuracy], feed_dict={X: feature_xy, Y: expected_class})"
   ]
  },
  {
   "cell_type": "code",
   "execution_count": 26,
   "metadata": {},
   "outputs": [
    {
     "name": "stdout",
     "output_type": "stream",
     "text": [
      "[0.73]\n"
     ]
    }
   ],
   "source": [
    "print(training_accuracy)"
   ]
  },
  {
   "cell_type": "markdown",
   "metadata": {
    "collapsed": true
   },
   "source": [
    "### 8. Make test data similar to the provided data above.\n",
    "###     Just 10 datapoints for each of the 4 classes."
   ]
  },
  {
   "cell_type": "code",
   "execution_count": 27,
   "metadata": {},
   "outputs": [],
   "source": [
    "\n",
    "# red class  =  class 0\n",
    "\n",
    "x_test_0 = np.random.normal(2, 1, (10, 1))\n",
    "y_test_0 = np.random.normal(1, 1, (10, 1))\n",
    "\n",
    "# green class  =  class 1\n",
    "\n",
    "x_test_1 = np.random.normal(5, 1, (10, 1))\n",
    "y_test_1 = np.random.normal(4, 1, (10, 1))\n",
    "\n",
    "# blue class  =  class 2\n",
    "\n",
    "x_test_2 = np.random.normal(3, 1, (10, 1))\n",
    "y_test_2 = np.random.normal(7, 1, (10, 1))\n",
    "\n",
    "# yellow class  =  class 3\n",
    "\n",
    "x_test_3 = np.random.normal(8, 1, (10, 1))\n",
    "y_test_3 = np.random.normal(0, 1, (10, 1))\n",
    "\n",
    "\n",
    "\n",
    "\n",
    "\n"
   ]
  },
  {
   "cell_type": "code",
   "execution_count": 28,
   "metadata": {},
   "outputs": [],
   "source": [
    "d0_test = np.hstack((x_test_0, y_test_0))\n",
    "d1_test = np.hstack((x_test_1, y_test_1))\n",
    "d2_test = np.hstack((x_test_2, y_test_2))\n",
    "d3_test = np.hstack((x_test_3, y_test_3))\n",
    "\n",
    "feature_xy_test = np.vstack((d0_test, d1_test, d2_test, d3_test))\n",
    "\n",
    "expected_class_test = np.matrix([[1., 0., 0., 0.]] * len(x_test_0) \\\n",
    "                        +  [[0., 1., 0., 0.]] * len(x_test_1) \\\n",
    "                        +  [[0., 0., 1., 0.]] * len(x_test_2) \\\n",
    "                        +  [[0., 0., 0., 1.]] * len(x_test_3) )\n"
   ]
  },
  {
   "cell_type": "markdown",
   "metadata": {},
   "source": [
    "###  9. Run the training on the test data."
   ]
  },
  {
   "cell_type": "code",
   "execution_count": 29,
   "metadata": {},
   "outputs": [],
   "source": [
    "for epoch in range(training_epochs):\n",
    "    sess.run(minimizer, feed_dict={X: feature_xy_test, Y:expected_class_test })\n",
    "\n"
   ]
  },
  {
   "cell_type": "code",
   "execution_count": 30,
   "metadata": {},
   "outputs": [
    {
     "name": "stdout",
     "output_type": "stream",
     "text": [
      "[[-1.0876002  -1.7262001  -2.831804    0.91567296]\n",
      " [-0.9159398  -0.96140754  2.194663   -2.6408713 ]]\n",
      "[ 5.452037   -0.15519567 -0.74528027 -1.1285279 ]\n"
     ]
    }
   ],
   "source": [
    "\n",
    "learned_w = sess.run(w)\n",
    "learned_b = sess.run(b)\n",
    "print(learned_w)\n",
    "print(learned_b)"
   ]
  },
  {
   "cell_type": "markdown",
   "metadata": {},
   "source": [
    "###  10. Use accuracy node on your test data."
   ]
  },
  {
   "cell_type": "code",
   "execution_count": 31,
   "metadata": {},
   "outputs": [],
   "source": [
    "training_accuracy = sess.run([accuracy], feed_dict={X: feature_xy_test, Y: expected_class_test})"
   ]
  },
  {
   "cell_type": "code",
   "execution_count": 32,
   "metadata": {},
   "outputs": [
    {
     "name": "stdout",
     "output_type": "stream",
     "text": [
      "[0.725]\n"
     ]
    }
   ],
   "source": [
    "print(training_accuracy)"
   ]
  },
  {
   "cell_type": "code",
   "execution_count": null,
   "metadata": {},
   "outputs": [],
   "source": []
  }
 ],
 "metadata": {
  "kernelspec": {
   "display_name": "Python 3",
   "language": "python",
   "name": "python3"
  },
  "language_info": {
   "codemirror_mode": {
    "name": "ipython",
    "version": 3
   },
   "file_extension": ".py",
   "mimetype": "text/x-python",
   "name": "python",
   "nbconvert_exporter": "python",
   "pygments_lexer": "ipython3",
   "version": "3.7.3"
  }
 },
 "nbformat": 4,
 "nbformat_minor": 1
}
