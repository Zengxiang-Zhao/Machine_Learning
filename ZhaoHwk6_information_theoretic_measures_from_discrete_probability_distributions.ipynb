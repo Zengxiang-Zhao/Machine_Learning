{
 "cells": [
  {
   "cell_type": "markdown",
   "metadata": {},
   "source": [
    "# Zengxiang Zhao"
   ]
  },
  {
   "cell_type": "markdown",
   "metadata": {},
   "source": [
    "#### Joint probability (of co-occurrence) is most important in science\n",
    "#### and engineering in general, and in machine learning in particular.\n",
    "#### Refer to what was said about the GLCM (grey level co-occurrence matrix)\n",
    "#### of an image for example.\n",
    "#### The purpose of this assignment is to implement the computation\n",
    "#### of many information-theoretic measures associated with such joint probability,\n",
    "#### using TensorFlow functions.\n",
    "####   ...\n",
    "#### Refer to modules 4 and 5 again, if necessary. "
   ]
  },
  {
   "cell_type": "markdown",
   "metadata": {},
   "source": [
    "# ...."
   ]
  },
  {
   "cell_type": "markdown",
   "metadata": {},
   "source": [
    "##### Recall that  log base 2 of x  =  (log base 2 of e) * (log base e of x)"
   ]
  },
  {
   "cell_type": "markdown",
   "metadata": {},
   "source": [
    "##### So,    log base 2 of x =  1.44269 * log base e of x"
   ]
  },
  {
   "cell_type": "markdown",
   "metadata": {},
   "source": [
    "###  ....................."
   ]
  },
  {
   "cell_type": "markdown",
   "metadata": {},
   "source": [
    "# ............"
   ]
  },
  {
   "cell_type": "markdown",
   "metadata": {},
   "source": [
    "#### 1. The usual import(s)"
   ]
  },
  {
   "cell_type": "code",
   "execution_count": 1,
   "metadata": {},
   "outputs": [],
   "source": [
    "import tensorflow as tf"
   ]
  },
  {
   "cell_type": "markdown",
   "metadata": {},
   "source": [
    "#### 2. The usual Session object"
   ]
  },
  {
   "cell_type": "code",
   "execution_count": 2,
   "metadata": {},
   "outputs": [],
   "source": [
    "sess = tf.Session()"
   ]
  },
  {
   "cell_type": "markdown",
   "metadata": {},
   "source": [
    "#### 3. Define a TensorFlow placeholder to hold the joint probability J.\n",
    "#####    Sizes are not fixed in advance, so that the below functions\n",
    "#####    may be used on any such joint probability."
   ]
  },
  {
   "cell_type": "code",
   "execution_count": 3,
   "metadata": {},
   "outputs": [],
   "source": [
    "J = tf.placeholder(tf.float32, shape=[None] )"
   ]
  },
  {
   "cell_type": "markdown",
   "metadata": {},
   "source": [
    "####  The actual 3 joint probability tables must be the following:"
   ]
  },
  {
   "cell_type": "code",
   "execution_count": 4,
   "metadata": {},
   "outputs": [],
   "source": [
    "p1q1 = [[0.125, 0.125], [0.5, 0.25]]\n",
    "p2q2 = [[0.08,0.01,0.10], [0.10,0.20,0.01], [0.06,0.08,0.20],[0.03,0.08,0.05]]\n",
    "p3q3 = [[0.,1.], [0.,0.]]"
   ]
  },
  {
   "cell_type": "markdown",
   "metadata": {},
   "source": [
    "#### 4. Define the joint entropy function for any joint probability table J,\n",
    "####     using appropriate TensorFlow functions.\n",
    "####     This entropy must be base 2.\n",
    "####     It should never produce NaN  ot Inf."
   ]
  },
  {
   "cell_type": "code",
   "execution_count": 5,
   "metadata": {},
   "outputs": [],
   "source": [
    "def joint_entropy(J):\n",
    "    sh = tf.shape(J)\n",
    "    Q = tf.fill(sh, 1e-10)\n",
    "    return - tf.reduce_sum(tf.multiply(J, tf.log(J+Q)*1.44269))"
   ]
  },
  {
   "cell_type": "markdown",
   "metadata": {},
   "source": [
    "#### 5. Show the joint entropy for p1q1, p2q2, p3q3 above."
   ]
  },
  {
   "cell_type": "code",
   "execution_count": 6,
   "metadata": {
    "scrolled": true
   },
   "outputs": [
    {
     "name": "stdout",
     "output_type": "stream",
     "text": [
      "Joint entropy of p1q1:  1.7499939\n",
      "Joint entropy of p2q2:  3.2119453\n",
      "Joint entropy of p3q3:  -0.0\n"
     ]
    }
   ],
   "source": [
    "print('Joint entropy of p1q1: ', sess.run(joint_entropy(p1q1)))\n",
    "print('Joint entropy of p2q2: ',  sess.run(joint_entropy(p2q2)))\n",
    "print('Joint entropy of p3q3: ',  sess.run(joint_entropy(p3q3)))"
   ]
  },
  {
   "cell_type": "markdown",
   "metadata": {},
   "source": [
    "#### 6. Define the function that extracts the probability vector\n",
    "####     of the first component in the probability table (marginalization)."
   ]
  },
  {
   "cell_type": "code",
   "execution_count": 7,
   "metadata": {},
   "outputs": [],
   "source": [
    "def first(J):\n",
    "    return tf.reduce_sum(J,1)\n",
    "    "
   ]
  },
  {
   "cell_type": "markdown",
   "metadata": {},
   "source": [
    "#### 7. Show the probability vector for the first component of p1q1, p2q2, p3q3."
   ]
  },
  {
   "cell_type": "code",
   "execution_count": 8,
   "metadata": {
    "scrolled": false
   },
   "outputs": [
    {
     "name": "stdout",
     "output_type": "stream",
     "text": [
      "First component of joint p1q1:  [0.25 0.75]\n",
      "First component of joint p2q2:  [0.19 0.31 0.34 0.16]\n",
      "First component of joint p3q3:  [1. 0.]\n"
     ]
    }
   ],
   "source": [
    "print('First component of joint p1q1: ', sess.run(first(p1q1)))\n",
    "print('First component of joint p2q2: ', sess.run(first(p2q2)))\n",
    "print('First component of joint p3q3: ', sess.run(first(p3q3)))"
   ]
  },
  {
   "cell_type": "markdown",
   "metadata": {},
   "source": [
    "#### 8. Define the function that extracts the probability vector\n",
    "####     of the second component in the probability table (marginalization)."
   ]
  },
  {
   "cell_type": "code",
   "execution_count": 9,
   "metadata": {},
   "outputs": [],
   "source": [
    "def second(J):\n",
    "     return tf.reduce_sum(J,0)"
   ]
  },
  {
   "cell_type": "markdown",
   "metadata": {},
   "source": [
    "#### 9. Show the probability vector for the second component of p1q1, p2q2, p3q3."
   ]
  },
  {
   "cell_type": "code",
   "execution_count": 10,
   "metadata": {},
   "outputs": [
    {
     "name": "stdout",
     "output_type": "stream",
     "text": [
      "Second component of joint p1q1:  [0.625 0.375]\n",
      "Second component of joint p2q2:  [0.27 0.37 0.36]\n",
      "Second component of joint p3q3:  [0. 1.]\n"
     ]
    }
   ],
   "source": [
    "print('Second component of joint p1q1: ', sess.run(second(p1q1)))\n",
    "print('Second component of joint p2q2: ', sess.run(second(p2q2)))\n",
    "print('Second component of joint p3q3: ', sess.run(second(p3q3)))"
   ]
  },
  {
   "cell_type": "markdown",
   "metadata": {},
   "source": [
    "#### 10. Define the entropy function of the first component \n",
    "####     for any joint probability table J, using appropriate TensorFlow functions.\n",
    "####     This entropy must be base 2.\n",
    "####     It should never produce NaN  ot Inf."
   ]
  },
  {
   "cell_type": "code",
   "execution_count": 11,
   "metadata": {},
   "outputs": [],
   "source": [
    "def entropy_first(J):\n",
    "    first_component = first(J)\n",
    "    sh= tf.shape(first_component)\n",
    "    Q = tf.fill(sh, 1e-10)\n",
    "    return -tf.reduce_sum(tf.multiply(first_component,tf.log(first_component+Q)*1.44269))\n"
   ]
  },
  {
   "cell_type": "markdown",
   "metadata": {},
   "source": [
    "#### 11. Show the entropy for the first component of p1q1, p2q2, p3q3."
   ]
  },
  {
   "cell_type": "code",
   "execution_count": 47,
   "metadata": {},
   "outputs": [
    {
     "name": "stdout",
     "output_type": "stream",
     "text": [
      "The entropy for the first component of p1q1:  0.81127536\n",
      "The entropy for the first component of p2q2:  1.9312049\n",
      "The entropy for the first component of p3q3:  -0.0\n"
     ]
    }
   ],
   "source": [
    "print('The entropy for the first component of p1q1: ', sess.run(entropy_first(p1q1)))\n",
    "print('The entropy for the first component of p2q2: ', sess.run(entropy_first(p2q2)))\n",
    "print('The entropy for the first component of p3q3: ', sess.run(entropy_first(p3q3)))\n",
    "\n",
    "\n"
   ]
  },
  {
   "cell_type": "markdown",
   "metadata": {},
   "source": [
    "#### 12. Define the entropy function of the second component \n",
    "####     for any joint probability table J, using appropriate TensorFlow functions.\n",
    "####     This entropy must be base 2.\n",
    "####     It should never produce NaN  ot Inf."
   ]
  },
  {
   "cell_type": "code",
   "execution_count": 48,
   "metadata": {},
   "outputs": [],
   "source": [
    "def entropy_second(J):\n",
    "    second_component = second(J)\n",
    "    sh= tf.shape(second_component)\n",
    "    Q = tf.fill(sh, 1e-10)\n",
    "    return -tf.reduce_sum(tf.multiply(second_component,tf.log(second_component+Q)*1.44269))\n"
   ]
  },
  {
   "cell_type": "markdown",
   "metadata": {},
   "source": [
    "#### 13. Show the entropy for the second component of p1q1, p2q2, p3q3."
   ]
  },
  {
   "cell_type": "code",
   "execution_count": 57,
   "metadata": {},
   "outputs": [
    {
     "name": "stdout",
     "output_type": "stream",
     "text": [
      "The entropy for the second component of p1q1:  0.9544307\n",
      "The entropy for the second component of p2q2:  1.5713603\n",
      "The entropy for the second component of p3q3:  -0.0\n",
      "0.93871856\n"
     ]
    }
   ],
   "source": [
    "print('The entropy for the second component of p1q1: ', sess.run(entropy_second(p1q1)))\n",
    "print('The entropy for the second component of p2q2: ', sess.run(entropy_second(p2q2)))\n",
    "print('The entropy for the second component of p3q3: ', sess.run(entropy_second(p3q3)))\n",
    "\n"
   ]
  },
  {
   "cell_type": "markdown",
   "metadata": {},
   "source": [
    "#### 14. Define the conditional entropy function of the first component \n",
    "####       if (with respect to) second component, for any joint probability table J, \n",
    "####       using appropriate TensorFlow functions.\n",
    "####     Should be easy, if you recall your entropy formulas."
   ]
  },
  {
   "cell_type": "code",
   "execution_count": 60,
   "metadata": {},
   "outputs": [],
   "source": [
    "def conditional_entropy_first_if_second(J):\n",
    "    return joint_entropy(J)-entropy_second(J)\n",
    "    \n"
   ]
  },
  {
   "cell_type": "markdown",
   "metadata": {},
   "source": [
    "#### 15. Show the conditional entropy H(first | second) for the joint p1q1, p2q2, p3q3."
   ]
  },
  {
   "cell_type": "code",
   "execution_count": 61,
   "metadata": {},
   "outputs": [
    {
     "name": "stdout",
     "output_type": "stream",
     "text": [
      " H(first | second) for the joint p1q1:  0.7955632\n",
      " H(first | second) for the joint p2q2:  1.640585\n",
      " H(first | second) for the joint p3q3:  0.0\n"
     ]
    }
   ],
   "source": [
    "print(' H(first | second) for the joint p1q1: ', sess.run(conditional_entropy_first_if_second(p1q1)))\n",
    "print(' H(first | second) for the joint p2q2: ', sess.run(conditional_entropy_first_if_second(p2q2)))\n",
    "print(' H(first | second) for the joint p3q3: ', sess.run(conditional_entropy_first_if_second(p3q3)))"
   ]
  },
  {
   "cell_type": "markdown",
   "metadata": {},
   "source": [
    "#### 16. Define the conditional entropy function of the second component \n",
    "####       if (with respect to) first component, for any joint probability table J, \n",
    "####       using appropriate TensorFlow functions."
   ]
  },
  {
   "cell_type": "code",
   "execution_count": 62,
   "metadata": {},
   "outputs": [],
   "source": [
    "def conditional_entropy_second_if_first(J):\n",
    "    return joint_entropy(J)-entropy_first(J)\n"
   ]
  },
  {
   "cell_type": "markdown",
   "metadata": {},
   "source": [
    "#### 17. Show the conditional entropy H(second | first) for the joint p1q1, p2q2, p3q3."
   ]
  },
  {
   "cell_type": "code",
   "execution_count": 65,
   "metadata": {},
   "outputs": [
    {
     "name": "stdout",
     "output_type": "stream",
     "text": [
      " H(second | first) for the joint p1q1:  0.93871856\n",
      " H(second | first) for the joint p2q2:  1.2807404\n",
      " H(second | first) for the joint p3q3:  0.0\n"
     ]
    }
   ],
   "source": [
    "print(' H(second | first) for the joint p1q1: ', sess.run(conditional_entropy_second_if_first(p1q1)))\n",
    "print(' H(second | first) for the joint p2q2: ', sess.run(conditional_entropy_second_if_first(p2q2)))\n",
    "print(' H(second | first) for the joint p3q3: ', sess.run(conditional_entropy_second_if_first(p3q3)))"
   ]
  },
  {
   "cell_type": "markdown",
   "metadata": {
    "collapsed": true
   },
   "source": [
    "### ...."
   ]
  },
  {
   "cell_type": "markdown",
   "metadata": {},
   "source": [
    "#### 18. Define the mutual information function between the first component \n",
    "####       and the second component, for any joint probability table J, \n",
    "####       using appropriate TensorFlow functions.\n",
    "####     Should be easy, if you recall your entropy formulas."
   ]
  },
  {
   "cell_type": "code",
   "execution_count": 66,
   "metadata": {},
   "outputs": [],
   "source": [
    "def mutual_information_first_and_second(J):\n",
    "    return entropy_first(J) + entropy_second(J) - joint_entropy(J)\n"
   ]
  },
  {
   "cell_type": "markdown",
   "metadata": {},
   "source": [
    "#### 19. Show the mutual information I(first;second) for the joint p1q1, p2q2, p3q3."
   ]
  },
  {
   "cell_type": "code",
   "execution_count": 68,
   "metadata": {},
   "outputs": [
    {
     "name": "stdout",
     "output_type": "stream",
     "text": [
      "mutual information I(first;second) for the joint p1q1:  0.015712142\n",
      "mutual information I(first;second) for the joint p2q2:  0.2906201\n",
      "mutual information I(first;second) for the joint p3q3:  0.0\n"
     ]
    }
   ],
   "source": [
    "print('mutual information I(first;second) for the joint p1q1: ', sess.run(mutual_information_first_and_second(p1q1)))\n",
    "print('mutual information I(first;second) for the joint p2q2: ', sess.run(mutual_information_first_and_second(p2q2)))\n",
    "print('mutual information I(first;second) for the joint p3q3: ', sess.run(mutual_information_first_and_second(p3q3)))\n",
    "\n",
    "\n",
    "\n"
   ]
  },
  {
   "cell_type": "markdown",
   "metadata": {},
   "source": [
    "#### 20. Define the mutual information function between the second component \n",
    "####       and the first component, for any joint probability table J, \n",
    "####       using appropriate TensorFlow functions."
   ]
  },
  {
   "cell_type": "code",
   "execution_count": 70,
   "metadata": {},
   "outputs": [],
   "source": [
    "# mutual information is symetric \n",
    "def mutual_information_second_and_first(J):\n",
    "        return entropy_first(J)-conditional_entropy_first_if_second(J)\n"
   ]
  },
  {
   "cell_type": "markdown",
   "metadata": {},
   "source": [
    "#### 21. Show the mutual information I(second; first) for the joint p1q1, p2q2, p3q3.\n",
    "####    .......\n",
    "###  Since mutual information I(X;Y) is symmetric, the results must be identical to the above."
   ]
  },
  {
   "cell_type": "code",
   "execution_count": 71,
   "metadata": {},
   "outputs": [
    {
     "name": "stdout",
     "output_type": "stream",
     "text": [
      "mutual information I(second;first) for the joint p1q1:  0.015712142\n",
      "mutual information I(second;first) for the joint p2q2:  0.29061997\n",
      "mutual information I(second;first) for the joint p3q3:  -0.0\n"
     ]
    }
   ],
   "source": [
    "print('mutual information I(second;first) for the joint p1q1: ', sess.run(mutual_information_second_and_first(p1q1)))\n",
    "print('mutual information I(second;first) for the joint p2q2: ', sess.run(mutual_information_second_and_first(p2q2)))\n",
    "print('mutual information I(second;first) for the joint p3q3: ', sess.run(mutual_information_second_and_first(p3q3)))\n",
    "\n",
    "\n",
    "\n"
   ]
  },
  {
   "cell_type": "markdown",
   "metadata": {},
   "source": [
    "## ....."
   ]
  },
  {
   "cell_type": "markdown",
   "metadata": {},
   "source": [
    "### KL (and other divergences, distances) apply only to distributions\n",
    "### of the same length (on the same space of outcomes)"
   ]
  },
  {
   "cell_type": "markdown",
   "metadata": {},
   "source": [
    "#### 22. Define the Kullback-Leibler (relative entropy) function  between the first component \n",
    "####     and the second component for any joint probability table J, using appropriate TensorFlow functions.\n",
    "####     This entropy must be base 2.\n",
    "####     It should never produce NaN  ot Inf."
   ]
  },
  {
   "cell_type": "code",
   "execution_count": 74,
   "metadata": {},
   "outputs": [],
   "source": [
    "def kullback_leibler_first_and_second(J):\n",
    "    first_component= first(J)\n",
    "    second_component = second(J)\n",
    "    sh = tf.shape(first_component)\n",
    "    Q = tf.fill(sh, 1e-10)\n",
    "    return tf.reduce_sum(tf.multiply(first_component,tf.log((first_component+Q)/(second_component+Q))))\n"
   ]
  },
  {
   "cell_type": "markdown",
   "metadata": {},
   "source": [
    "#### 23. Show the Kullback-Leibler divergence KL(first;second) for the joint p1q1 and p3q3.\n",
    "####       p2q2 cannot be used."
   ]
  },
  {
   "cell_type": "code",
   "execution_count": 78,
   "metadata": {},
   "outputs": [
    {
     "name": "stdout",
     "output_type": "stream",
     "text": [
      "KL(first;second) for the joint p1q1:  0.2907877\n",
      "KL(first;second) for the joint p3q3:  23.02585\n"
     ]
    }
   ],
   "source": [
    "print('KL(first;second) for the joint p1q1: ', sess.run(kullback_leibler_first_and_second(p1q1)))\n",
    "print('KL(first;second) for the joint p3q3: ', sess.run(kullback_leibler_first_and_second(p3q3)))\n",
    "\n",
    "\n",
    "\n"
   ]
  },
  {
   "cell_type": "markdown",
   "metadata": {},
   "source": [
    "#### 24. Define the Kullback-Leibler (relative entropy) function  between the second component \n",
    "####     and the first component for any joint probability table J, using appropriate TensorFlow functions.\n",
    "####     This entropy must be base 2.\n",
    "####     It should never produce NaN  ot Inf."
   ]
  },
  {
   "cell_type": "code",
   "execution_count": 81,
   "metadata": {},
   "outputs": [],
   "source": [
    "def kullback_leibler_second_and_first(J):\n",
    "    first_component= first(J)\n",
    "    second_component = second(J)\n",
    "    sh = tf.shape(first_component)\n",
    "    Q = tf.fill(sh, 1e-10)\n",
    "    return tf.reduce_sum(tf.multiply(second_component,tf.log((second_component+Q)/(first_component+Q))))\n",
    "\n",
    "\n"
   ]
  },
  {
   "cell_type": "markdown",
   "metadata": {},
   "source": [
    "#### 25. Show the Kullback-Leibler divergence KL(second;first) for the joint p1q1 and p3q3.\n",
    "####       p2q2 cannot be used.\n",
    "####   ....\n",
    "###    KL(X;Y) is not symmetric, so you would not always get the same results as above."
   ]
  },
  {
   "cell_type": "code",
   "execution_count": 82,
   "metadata": {},
   "outputs": [
    {
     "name": "stdout",
     "output_type": "stream",
     "text": [
      "KL(second;first) for the joint p1q1:  0.31275153\n",
      "KL(second;first) for the joint p3q3:  23.02585\n"
     ]
    }
   ],
   "source": [
    "print('KL(second;first) for the joint p1q1: ', sess.run(kullback_leibler_second_and_first(p1q1)))\n",
    "print('KL(second;first) for the joint p3q3: ', sess.run(kullback_leibler_second_and_first(p3q3)))\n",
    "\n"
   ]
  },
  {
   "cell_type": "markdown",
   "metadata": {
    "collapsed": true
   },
   "source": [
    "# ................"
   ]
  },
  {
   "cell_type": "markdown",
   "metadata": {},
   "source": [
    "###   There is a true metric (true distance) defined for probability distributions of the same\n",
    "###    length, shown in my write-ups.\n",
    "### ...\n",
    "####   26. Define this true metric function between the components of any joint probability table J, \n",
    "####   using the conditional entropy functions you defined above."
   ]
  },
  {
   "cell_type": "code",
   "execution_count": 83,
   "metadata": {},
   "outputs": [],
   "source": [
    "def distance_first_second(J):\n",
    "    return conditional_entropy_first_if_second(J) + conditional_entropy_second_if_first(J)\n"
   ]
  },
  {
   "cell_type": "markdown",
   "metadata": {},
   "source": [
    "#### 27. Show the distance distance(first,second) for the joint p1q1 and p3q3.\n",
    "####       p2q2 cannot be used.\n",
    "####   ...."
   ]
  },
  {
   "cell_type": "code",
   "execution_count": 85,
   "metadata": {},
   "outputs": [
    {
     "name": "stdout",
     "output_type": "stream",
     "text": [
      "Distance(first,second) for the joint p1q1:  1.7342818\n",
      "Distance(first,second) for the joint p3q3:  0.0\n"
     ]
    }
   ],
   "source": [
    "print('Distance(first,second) for the joint p1q1: ', sess.run(distance_first_second(p1q1)))\n",
    "print('Distance(first,second) for the joint p3q3: ', sess.run(distance_first_second(p3q3)))\n",
    "\n",
    "\n"
   ]
  },
  {
   "cell_type": "markdown",
   "metadata": {
    "collapsed": true
   },
   "source": [
    "# ..."
   ]
  },
  {
   "cell_type": "code",
   "execution_count": null,
   "metadata": {
    "collapsed": true
   },
   "outputs": [],
   "source": []
  }
 ],
 "metadata": {
  "kernelspec": {
   "display_name": "Python 3",
   "language": "python",
   "name": "python3"
  },
  "language_info": {
   "codemirror_mode": {
    "name": "ipython",
    "version": 3
   },
   "file_extension": ".py",
   "mimetype": "text/x-python",
   "name": "python",
   "nbconvert_exporter": "python",
   "pygments_lexer": "ipython3",
   "version": "3.7.3"
  }
 },
 "nbformat": 4,
 "nbformat_minor": 2
}
